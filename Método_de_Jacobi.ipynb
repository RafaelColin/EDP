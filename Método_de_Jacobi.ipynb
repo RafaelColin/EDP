{
  "nbformat": 4,
  "nbformat_minor": 0,
  "metadata": {
    "colab": {
      "provenance": [],
      "authorship_tag": "ABX9TyP1Un74AUHfpUlw5zjLsHRQ",
      "include_colab_link": true
    },
    "kernelspec": {
      "name": "python3",
      "display_name": "Python 3"
    },
    "language_info": {
      "name": "python"
    }
  },
  "cells": [
    {
      "cell_type": "markdown",
      "metadata": {
        "id": "view-in-github",
        "colab_type": "text"
      },
      "source": [
        "<a href=\"https://colab.research.google.com/github/RafaelColin/EDP/blob/main/M%C3%A9todo_de_Jacobi.ipynb\" target=\"_parent\"><img src=\"https://colab.research.google.com/assets/colab-badge.svg\" alt=\"Open In Colab\"/></a>"
      ]
    },
    {
      "cell_type": "markdown",
      "source": [
        "#Implementa el método iterativo de Jacobi para resolver el sistema AX = b.\n",
        " El método de Jacobi es un algoritmo iterativo que resuelve sistemas de ecuaciones lineales descomponiendo la matriz A en una matriz diagonal D y el resto R (A = D + R).\n",
        "\n",
        " Parámetros:\n",
        "\n",
        "    A : matriz de coeficientes (numpy array de n x n)\n",
        "    b : vector de términos independientes (numpy array de n)\n",
        "    X0 : aproximación inicial (numpy array de n)\n",
        "    TOL : tolerancia para la convergencia\n",
        "    N : número máximo de iteraciones"
      ],
      "metadata": {
        "id": "LiOBbz3qvP_A"
      }
    },
    {
      "cell_type": "code",
      "source": [
        "import numpy as np  # libreria numpy: Para operaciones matriciales y matemáticas.\n",
        "import pandas as pd # libreria pandas: Para crear y mostrar tablas con los resultados.\n",
        "\n",
        "def jacobi(A, b, X0, TOL, N):\n",
        "\n",
        "    n = len(b)      # Obtener la dimensión del sistema\n",
        "    x = np.zeros(n) # Inicializar el vector para la nueva aproximació\n",
        "    k = 1           # Inicia contador de iteraciones\n",
        "    resultados = [] # Lista para almacenar los resultados de cada iteración (para la tabla final)\n",
        "\n",
        "    # Bucle principal de iteraciones\n",
        "    while k <= N:\n",
        "        for i in range(n): # Calcular cada componente del nuevo vector solución\n",
        "            suma = 0       # Inicia la suma de los términos no diagonales\n",
        "            for j in range(n): # Calcular la suma de a_ij * x_j para j ≠ i\n",
        "                if j != i:     # Excluir el elemento diagonal\n",
        "                    suma += A[i, j] * X0[j]\n",
        "            x[i] = (b[i] - suma) / A[i, i] # Calcular el nuevo valor para x_i usando la fórmula de Jacobi\n",
        "\n",
        "        diferencia = np.linalg.norm(x - X0, np.inf) # Calcular el error, por la norma infinita de la diferencia entre la aproximación actual y la anterior\n",
        "\n",
        "        resultados.append([k] + list(x.copy()) + [diferencia]) # Almacenar los resultados de esta iteración para la tabla final\n",
        "\n",
        "        # Verificar criterio de convergencia\n",
        "        if diferencia < TOL:\n",
        "            columnas = ['Iteración'] + [f'x{i+1}' for i in range(n)] + ['Error'] # Las columnas son: Iteración, x1, x2, ..., xn, Error\n",
        "            df = pd.DataFrame(resultados, columns=columnas)                      # Crear y mostrar tabla con los resultados de todas las iteraciones\n",
        "            print(df.to_string(index=False))                                     # Mostrar la tabla sin índices\n",
        "            return x                                                             # Retornar la solución aproximada\n",
        "\n",
        "        # Contador de iteraciones\n",
        "        k += 1\n",
        "        X0 = x.copy()\n",
        "\n",
        "    columnas = ['Iteración'] + [f'x{i+1}' for i in range(n)] + ['Error']               # Si se excede el número máximo de iteraciones sin converger\n",
        "    df = pd.DataFrame(resultados, columns=columnas)                                    # Crear y mostrar tabla con los resultados de todas las iteraciones\n",
        "    print(df.to_string(index=False))                                                   # Mostrar la tabla sin índices\n",
        "    print(\"\\nNúmero máximo de iteraciones excedido. El procedimiento no fue exitoso.\") # Mensaje de no convergencia\n",
        "    return None                                                                        # Retornar None para indicar que no se alcanzó la convergencia\n",
        "\n",
        "# Ejemplo de uso del método de Jacobi, con el ejercicio visto en clase\n",
        "if __name__ == \"__main__\":\n",
        "    A = np.array([[4,-1,-1,0],            # Matriz de coeficientes\n",
        "            [-1,4,0,-1],\n",
        "            [-1,0,4,-1],\n",
        "            [0,-1,-1,4]])\n",
        "\n",
        "    b = np.array([0, 2/3, 8/9, 14/9])                # Vector de términos independientes\n",
        "    X0 = np.array([7/27, 7/27, 7/27, 7/27])          # Aproximación inicial\n",
        "    TOL = 1e-5                                       # Tolerancia para el criterio de convergencia \"ERROR\"\n",
        "    N = 100                                          # Número máximo de iteraciones permitidas\n",
        "\n",
        "    # Llamar a la función jacobi para resolver el sistema\n",
        "    print(\"Resolviendo el sistema usando el método de Jacobi:\")\n",
        "    print(\"Sistema: 4X1 - X2 - X3       = 0\")\n",
        "    print(\"         -X1 + 4X2      - X4 = 2/3\")\n",
        "    print(\"         -X1      + 4X3 - X4 = 8/9\")\n",
        "    print(\"             - X2 - X3 - 4X4 = 14/9\")\n",
        "    print(f\"Aproximación inicial: {X0}\")\n",
        "    print(f\"Tolerancia: {TOL}\")\n",
        "    print(f\"Máximo de iteraciones: {N}\")\n",
        "    print(\"\\nProgreso de las iteraciones:\")\n",
        "\n",
        "    solucion = jacobi(A, b, X0, TOL, N)\n",
        "\n",
        "    # Mostrar la solución si se encontró\n",
        "    if solucion is not None:\n",
        "        print(f\"\\nSolución aproximada: X1 = {solucion[0]:.6f}, x2 = {solucion[1]:.6f}, X3 = {solucion[2]:.6f}, x4 = {solucion[3]:.6f}\")\n",
        "\n",
        "        # Verificar la solución calculando A*x y comparando con b\n",
        "        print(\"\\nVerificación:\")\n",
        "        print(f\"A * x = {np.dot(A, solucion)}\")\n",
        "        print(f\"b     = {b}\")"
      ],
      "metadata": {
        "colab": {
          "base_uri": "https://localhost:8080/"
        },
        "id": "ttQh9eK9GUuR",
        "outputId": "3b9fdf31-d2ed-4083-b528-2189115f560f"
      },
      "execution_count": 7,
      "outputs": [
        {
          "output_type": "stream",
          "name": "stdout",
          "text": [
            "Resolviendo el sistema usando el método de Jacobi:\n",
            "Sistema: 4X1 - X2 - X3       = 0\n",
            "         -X1 + 4X2      - X4 = 2/3\n",
            "         -X1      + 4X3 - X4 = 8/9\n",
            "             - X2 - X3 - 4X4 = 14/9\n",
            "Aproximación inicial: [0.25925926 0.25925926 0.25925926 0.25925926]\n",
            "Tolerancia: 1e-05\n",
            "Máximo de iteraciones: 100\n",
            "\n",
            "Progreso de las iteraciones:\n",
            " Iteración       x1       x2       x3       x4    Error\n",
            "         1 0.129630 0.296296 0.351852 0.518519 0.259259\n",
            "         2 0.162037 0.328704 0.384259 0.550926 0.032407\n",
            "         3 0.178241 0.344907 0.400463 0.567130 0.016204\n",
            "         4 0.186343 0.353009 0.408565 0.575231 0.008102\n",
            "         5 0.190394 0.357060 0.412616 0.579282 0.004051\n",
            "         6 0.192419 0.359086 0.414641 0.581308 0.002025\n",
            "         7 0.193432 0.360098 0.415654 0.582321 0.001013\n",
            "         8 0.193938 0.360605 0.416160 0.582827 0.000506\n",
            "         9 0.194191 0.360858 0.416413 0.583080 0.000253\n",
            "        10 0.194318 0.360985 0.416540 0.583207 0.000127\n",
            "        11 0.194381 0.361048 0.416603 0.583270 0.000063\n",
            "        12 0.194413 0.361079 0.416635 0.583302 0.000032\n",
            "        13 0.194429 0.361095 0.416651 0.583318 0.000016\n",
            "        14 0.194437 0.361103 0.416659 0.583325 0.000008\n",
            "\n",
            "Solución aproximada: X1 = 0.194437, x2 = 0.361103, X3 = 0.416659, x4 = 0.583325\n",
            "\n",
            "Verificación:\n",
            "A * x = [-1.58239294e-05  6.66650843e-01  8.88873065e-01  1.55553973e+00]\n",
            "b     = [0.         0.66666667 0.88888889 1.55555556]\n"
          ]
        }
      ]
    }
  ]
}