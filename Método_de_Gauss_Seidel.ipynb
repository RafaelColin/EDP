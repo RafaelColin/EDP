{
  "nbformat": 4,
  "nbformat_minor": 0,
  "metadata": {
    "colab": {
      "provenance": [],
      "authorship_tag": "ABX9TyN2XnK4pxmTC1Ucx7HnNE0a",
      "include_colab_link": true
    },
    "kernelspec": {
      "name": "python3",
      "display_name": "Python 3"
    },
    "language_info": {
      "name": "python"
    }
  },
  "cells": [
    {
      "cell_type": "markdown",
      "metadata": {
        "id": "view-in-github",
        "colab_type": "text"
      },
      "source": [
        "<a href=\"https://colab.research.google.com/github/RafaelColin/EDP/blob/main/M%C3%A9todo_de_Gauss_Seidel.ipynb\" target=\"_parent\"><img src=\"https://colab.research.google.com/assets/colab-badge.svg\" alt=\"Open In Colab\"/></a>"
      ]
    },
    {
      "cell_type": "markdown",
      "source": [
        "#Implementa el método iterativo de Gauss-Seidel para resolver sistemas de ecuaciones lineales AX = b.\n",
        "El método de Gauss-Seidel es una variante del método de Jacobi que utiliza los valores más recientes de las incógnitas tan pronto como están disponibles, lo que generalmente conduce a una convergencia más rápida.\n",
        "\n",
        "Parámetros:\n",
        "    \n",
        "    A : matriz de coeficientes (numpy array de n x n)\n",
        "    b : vector de términos independientes (numpy array de n)\n",
        "    X0 : aproximación inicial (numpy array de n)\n",
        "    TOL : tolerancia para la convergencia\n",
        "    N : número máximo de iteraciones\n",
        "    "
      ],
      "metadata": {
        "id": "vdpzbL_V_yzd"
      }
    },
    {
      "cell_type": "code",
      "execution_count": 1,
      "metadata": {
        "colab": {
          "base_uri": "https://localhost:8080/"
        },
        "id": "QWZYPkSrT_2u",
        "outputId": "f2dd737f-69d2-418a-ffb0-4b3de5f19e9b"
      },
      "outputs": [
        {
          "output_type": "stream",
          "name": "stdout",
          "text": [
            "Resolviendo el sistema usando el método de Gauss-Seidel:\n",
            "Sistema: 4X1 - X2 - X3       = 0\n",
            "         -X1 + 4X2      - X4 = 2/3\n",
            "         -X1      + 4X3 - X4 = 8/9\n",
            "             - X2 - X3 - 4X4 = 14/9\n",
            "Aproximación inicial: [0.25925926 0.25925926 0.25925926 0.25925926]\n",
            "Tolerancia: 1e-05\n",
            "Máximo de iteraciones: 100\n",
            "\n",
            "Progreso de las iteraciones:\n",
            " Iteración       x1       x2       x3       x4    Error\n",
            "         1 0.129630 0.263889 0.319444 0.534722 0.275463\n",
            "         2 0.145833 0.336806 0.392361 0.571181 0.072917\n",
            "         3 0.182292 0.355035 0.410590 0.580295 0.036458\n",
            "         4 0.191406 0.359592 0.415148 0.582574 0.009115\n",
            "         5 0.193685 0.360731 0.416287 0.583143 0.002279\n",
            "         6 0.194255 0.361016 0.416572 0.583286 0.000570\n",
            "         7 0.194397 0.361087 0.416643 0.583321 0.000142\n",
            "         8 0.194433 0.361105 0.416661 0.583330 0.000036\n",
            "         9 0.194441 0.361110 0.416665 0.583333 0.000009\n",
            "\n",
            "Solución aproximada: X1 = 0.194441, x2 = 0.361110, X3 = 0.416665, x4 = 0.583333\n",
            "\n",
            "Verificación:\n",
            "A * x = [-8.90096029e-06  6.66664441e-01  8.88886664e-01  1.55555556e+00]\n",
            "b     = [0.         0.66666667 0.88888889 1.55555556]\n"
          ]
        }
      ],
      "source": [
        "import numpy as np  # libreria numpy: Para operaciones matriciales y matemáticas.\n",
        "import pandas as pd # libreria pandas: Para crear y mostrar tablas con los resultados.\n",
        "\n",
        "def gauss_seidel(A, b, X0, TOL, N):\n",
        "\n",
        "    n = len(b)      # Obtener la dimensión del sistema\n",
        "    x = X0.copy()   # Crear una copia del vector inicial para no modificar el original\n",
        "    k = 1           # Inicia el conteo de iteraciones\n",
        "    resultados = [] # Lista para almacenar los resultados de cada iteración (para la tabla final)\n",
        "\n",
        "\n",
        "    while k <= N:                                 # Bucle principal de iteraciones\n",
        "        x_anterior = x.copy()                     # Crear una copia de la aproximación anterior para calcular el error\n",
        "        for i in range(n):                        # Calcular cada componente del nuevo vector solución\n",
        "            suma = 0                              # Inicializar la suma de los términos\n",
        "            for j in range(i):                    # Suma de los términos con los valores ya actualizados (j < i)\n",
        "                suma += A[i, j] * x[j]\n",
        "            for j in range(i + 1, n):             # Suma de los términos con los valores aún no actualizados (j > i)\n",
        "                suma += A[i, j] * x_anterior[j]\n",
        "            x[i] = (b[i] - suma) / A[i, i]        # Calcular el nuevo valor para x_i usando la fórmula de Gauss-Seidel\n",
        "\n",
        "        diferencia = np.linalg.norm(x - x_anterior, np.inf) # Calcular el error, por la norma infinita de la diferencia entre la aproximación actual y la anterior\n",
        "\n",
        "        resultados.append([k] + list(x.copy()) + [diferencia]) # Almacenar los resultados de esta iteración para la tabla final\n",
        "\n",
        "\n",
        "        if diferencia < TOL:                                                             # Verificar criterio de convergencia\n",
        "            columnas = ['Iteración'] + [f'x{i+1}' for i in range(n)] + ['Error']         # Las columnas son: Iteración, x1, x2, ..., xn, Error\n",
        "            df = pd.DataFrame(resultados, columns=columnas)                              # Crear y mostrar tabla con los resultados de todas las iteraciones\n",
        "            print(df.to_string(index=False, float_format=lambda x: '{:.6f}'.format(x)))  # Mostrar la tabla sin índices\n",
        "            return x                                                                     # Retornar la solución aproximada\n",
        "\n",
        "        # Contador de iteraciones\n",
        "        k += 1\n",
        "\n",
        "    columnas = ['Iteración'] + [f'x{i+1}' for i in range(n)] + ['Error']                      # Si se excede el número máximo de iteraciones sin converger\n",
        "    df = pd.DataFrame(resultados, columns=columnas)                                           # Crear y mostrar tabla con los resultados de todas las iteraciones\n",
        "    print(df.to_string(index=False, float_format=lambda x: '{:.6f}'.format(x)))               # Mostrar la tabla\n",
        "    print(f\"\\nNúmero máximo de iteraciones ({N}) excedido. El procedimiento no fue exitoso.\") # Mensaje de no convergencia\n",
        "    return None                                                                               # Retornar None para indicar que no se alcanzó la convergencia\n",
        "\n",
        "# Ejemplo de uso del método de Gauss-Seidel, con el ejercicio visto en clase\n",
        "if __name__ == \"__main__\":\n",
        "    A = np.array([[4,-1,-1,0],                       # Matriz de coeficientes\n",
        "                  [-1,4,0,-1],\n",
        "                  [-1,0,4,-1],\n",
        "                  [0,-1,-1,4]])\n",
        "\n",
        "    b = np.array([0, 2/3, 8/9, 14/9])                # Vector de términos independientes\n",
        "    X0 = np.array([7/27, 7/27, 7/27, 7/27])          # Aproximación inicial\n",
        "    TOL = 1e-5                                       # Tolerancia para el criterio de convergencia \"ERROR\"\n",
        "    N = 100                                          # Número máximo de iteraciones permitidas\n",
        "\n",
        "    # Llamar a la función gauss_seidel para resolver el sistema\n",
        "    print(\"Resolviendo el sistema usando el método de Gauss-Seidel:\")\n",
        "    print(\"Sistema: 4X1 - X2 - X3       = 0\")\n",
        "    print(\"         -X1 + 4X2      - X4 = 2/3\")\n",
        "    print(\"         -X1      + 4X3 - X4 = 8/9\")\n",
        "    print(\"             - X2 - X3 - 4X4 = 14/9\")\n",
        "    print(f\"Aproximación inicial: {X0}\")\n",
        "    print(f\"Tolerancia: {TOL}\")\n",
        "    print(f\"Máximo de iteraciones: {N}\")\n",
        "    print(\"\\nProgreso de las iteraciones:\")\n",
        "\n",
        "    solucion = gauss_seidel(A, b, X0, TOL, N)\n",
        "\n",
        "    # Mostrar la solución si se encontró\n",
        "    if solucion is not None:\n",
        "        print(f\"\\nSolución aproximada: X1 = {solucion[0]:.6f}, x2 = {solucion[1]:.6f}, X3 = {solucion[2]:.6f}, x4 = {solucion[3]:.6f}\")\n",
        "\n",
        "        # Verificar la solución calculando A*x y comparando con b\n",
        "        print(\"\\nVerificación:\")\n",
        "        print(f\"A * x = {np.dot(A, solucion)}\")\n",
        "        print(f\"b     = {b}\")"
      ]
    }
  ]
}